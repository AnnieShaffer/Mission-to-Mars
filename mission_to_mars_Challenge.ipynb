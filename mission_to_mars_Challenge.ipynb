{
 "cells": [
  {
   "cell_type": "code",
   "execution_count": 1,
   "metadata": {},
   "outputs": [],
   "source": [
    "from splinter import Browser\n",
    "from bs4 import BeautifulSoup as soup\n",
    "import pandas as pd"
   ]
  },
  {
   "cell_type": "code",
   "execution_count": 2,
   "metadata": {},
   "outputs": [],
   "source": [
    "# Set the executable path and initialize the chrome browser in splinter\n",
    "executable_path = {'executable_path': 'chromedriver'}\n",
    "browser = Browser('chrome', **executable_path)"
   ]
  },
  {
   "cell_type": "code",
   "execution_count": 3,
   "metadata": {},
   "outputs": [
    {
     "output_type": "execute_result",
     "data": {
      "text/plain": "True"
     },
     "metadata": {},
     "execution_count": 3
    }
   ],
   "source": [
    "# Visit the mars nasa news site\n",
    "url = 'https://mars.nasa.gov/news/'\n",
    "browser.visit(url)\n",
    "# Optional delay for loading the page\n",
    "browser.is_element_present_by_css(\"ul.item_list li.slide\", wait_time=1)"
   ]
  },
  {
   "cell_type": "code",
   "execution_count": 4,
   "metadata": {},
   "outputs": [],
   "source": [
    "html = browser.html\n",
    "news_soup = soup(html, 'html.parser')\n",
    "slide_elem = news_soup.select_one('ul.item_list li.slide')"
   ]
  },
  {
   "cell_type": "code",
   "execution_count": 5,
   "metadata": {},
   "outputs": [
    {
     "output_type": "execute_result",
     "data": {
      "text/plain": "<div class=\"content_title\"><a href=\"/news/8759/nasas-new-mars-rover-will-use-x-rays-to-hunt-fossils/\" target=\"_self\">NASA's New Mars Rover Will Use X-Rays to Hunt Fossils</a></div>"
     },
     "metadata": {},
     "execution_count": 5
    }
   ],
   "source": [
    "slide_elem.find(\"div\", class_='content_title')"
   ]
  },
  {
   "cell_type": "code",
   "execution_count": 6,
   "metadata": {},
   "outputs": [
    {
     "output_type": "execute_result",
     "data": {
      "text/plain": "\"NASA's New Mars Rover Will Use X-Rays to Hunt Fossils\""
     },
     "metadata": {},
     "execution_count": 6
    }
   ],
   "source": [
    "# Use the parent element to find the first `a` tag and save it as `news_title`\n",
    "news_title = slide_elem.find(\"div\", class_='content_title').get_text()\n",
    "news_title"
   ]
  },
  {
   "cell_type": "code",
   "execution_count": 7,
   "metadata": {},
   "outputs": [
    {
     "output_type": "execute_result",
     "data": {
      "text/plain": "\"PIXL, an instrument on the end of the Perseverance rover's arm, will search for chemical fingerprints left by ancient microbes.\""
     },
     "metadata": {},
     "execution_count": 7
    }
   ],
   "source": [
    "# Use the parent element to find the paragraph text\n",
    "news_p = slide_elem.find('div', class_=\"article_teaser_body\").get_text()\n",
    "news_p"
   ]
  },
  {
   "cell_type": "markdown",
   "metadata": {},
   "source": [
    "### Featured Images"
   ]
  },
  {
   "cell_type": "code",
   "execution_count": 8,
   "metadata": {},
   "outputs": [],
   "source": [
    "# Visit URL\n",
    "url = 'https://www.jpl.nasa.gov/spaceimages/?search=&category=Mars'\n",
    "browser.visit(url)"
   ]
  },
  {
   "cell_type": "code",
   "execution_count": 9,
   "metadata": {},
   "outputs": [],
   "source": [
    "# Find and click the full image button\n",
    "full_image_elem = browser.find_by_id('full_image')\n",
    "full_image_elem.click()"
   ]
  },
  {
   "cell_type": "code",
   "execution_count": 10,
   "metadata": {},
   "outputs": [],
   "source": [
    "# Find the more info button and click that\n",
    "browser.is_element_present_by_text('more info', wait_time=1)\n",
    "more_info_elem = browser.links.find_by_partial_text('more info')\n",
    "more_info_elem.click()"
   ]
  },
  {
   "cell_type": "code",
   "execution_count": 11,
   "metadata": {},
   "outputs": [],
   "source": [
    "# Parse the resulting html with soup\n",
    "html = browser.html\n",
    "img_soup = soup(html, 'html.parser')"
   ]
  },
  {
   "cell_type": "code",
   "execution_count": 12,
   "metadata": {},
   "outputs": [
    {
     "output_type": "execute_result",
     "data": {
      "text/plain": "'/spaceimages/images/largesize/PIA14417_hires.jpg'"
     },
     "metadata": {},
     "execution_count": 12
    }
   ],
   "source": [
    "# Find the relative image url\n",
    "img_url_rel = img_soup.select_one('figure.lede a img').get(\"src\")\n",
    "img_url_rel"
   ]
  },
  {
   "cell_type": "code",
   "execution_count": 13,
   "metadata": {},
   "outputs": [
    {
     "output_type": "execute_result",
     "data": {
      "text/plain": "'https://www.jpl.nasa.gov/spaceimages/images/largesize/PIA14417_hires.jpg'"
     },
     "metadata": {},
     "execution_count": 13
    }
   ],
   "source": [
    "# Use the base URL to create an absolute URL\n",
    "img_url = f'https://www.jpl.nasa.gov{img_url_rel}'\n",
    "img_url"
   ]
  },
  {
   "cell_type": "code",
   "execution_count": 14,
   "metadata": {},
   "outputs": [
    {
     "output_type": "execute_result",
     "data": {
      "text/plain": "                                              value\ndescription                                        \nEquatorial Diameter:                       6,792 km\nPolar Diameter:                            6,752 km\nMass:                 6.39 × 10^23 kg (0.11 Earths)\nMoons:                          2 (Phobos & Deimos)\nOrbit Distance:            227,943,824 km (1.38 AU)\nOrbit Period:                  687 days (1.9 years)\nSurface Temperature:                   -87 to -5 °C\nFirst Record:                     2nd millennium BC\nRecorded By:                   Egyptian astronomers",
      "text/html": "<div>\n<style scoped>\n    .dataframe tbody tr th:only-of-type {\n        vertical-align: middle;\n    }\n\n    .dataframe tbody tr th {\n        vertical-align: top;\n    }\n\n    .dataframe thead th {\n        text-align: right;\n    }\n</style>\n<table border=\"1\" class=\"dataframe\">\n  <thead>\n    <tr style=\"text-align: right;\">\n      <th></th>\n      <th>value</th>\n    </tr>\n    <tr>\n      <th>description</th>\n      <th></th>\n    </tr>\n  </thead>\n  <tbody>\n    <tr>\n      <th>Equatorial Diameter:</th>\n      <td>6,792 km</td>\n    </tr>\n    <tr>\n      <th>Polar Diameter:</th>\n      <td>6,752 km</td>\n    </tr>\n    <tr>\n      <th>Mass:</th>\n      <td>6.39 × 10^23 kg (0.11 Earths)</td>\n    </tr>\n    <tr>\n      <th>Moons:</th>\n      <td>2 (Phobos &amp; Deimos)</td>\n    </tr>\n    <tr>\n      <th>Orbit Distance:</th>\n      <td>227,943,824 km (1.38 AU)</td>\n    </tr>\n    <tr>\n      <th>Orbit Period:</th>\n      <td>687 days (1.9 years)</td>\n    </tr>\n    <tr>\n      <th>Surface Temperature:</th>\n      <td>-87 to -5 °C</td>\n    </tr>\n    <tr>\n      <th>First Record:</th>\n      <td>2nd millennium BC</td>\n    </tr>\n    <tr>\n      <th>Recorded By:</th>\n      <td>Egyptian astronomers</td>\n    </tr>\n  </tbody>\n</table>\n</div>"
     },
     "metadata": {},
     "execution_count": 14
    }
   ],
   "source": [
    "df = pd.read_html('http://space-facts.com/mars/')[0]\n",
    "df.columns=['description', 'value']\n",
    "df.set_index('description', inplace=True)\n",
    "df"
   ]
  },
  {
   "cell_type": "code",
   "execution_count": 15,
   "metadata": {},
   "outputs": [
    {
     "output_type": "execute_result",
     "data": {
      "text/plain": "'<table border=\"1\" class=\"dataframe\">\\n  <thead>\\n    <tr style=\"text-align: right;\">\\n      <th></th>\\n      <th>value</th>\\n    </tr>\\n    <tr>\\n      <th>description</th>\\n      <th></th>\\n    </tr>\\n  </thead>\\n  <tbody>\\n    <tr>\\n      <th>Equatorial Diameter:</th>\\n      <td>6,792 km</td>\\n    </tr>\\n    <tr>\\n      <th>Polar Diameter:</th>\\n      <td>6,752 km</td>\\n    </tr>\\n    <tr>\\n      <th>Mass:</th>\\n      <td>6.39 × 10^23 kg (0.11 Earths)</td>\\n    </tr>\\n    <tr>\\n      <th>Moons:</th>\\n      <td>2 (Phobos &amp; Deimos)</td>\\n    </tr>\\n    <tr>\\n      <th>Orbit Distance:</th>\\n      <td>227,943,824 km (1.38 AU)</td>\\n    </tr>\\n    <tr>\\n      <th>Orbit Period:</th>\\n      <td>687 days (1.9 years)</td>\\n    </tr>\\n    <tr>\\n      <th>Surface Temperature:</th>\\n      <td>-87 to -5 °C</td>\\n    </tr>\\n    <tr>\\n      <th>First Record:</th>\\n      <td>2nd millennium BC</td>\\n    </tr>\\n    <tr>\\n      <th>Recorded By:</th>\\n      <td>Egyptian astronomers</td>\\n    </tr>\\n  </tbody>\\n</table>'"
     },
     "metadata": {},
     "execution_count": 15
    }
   ],
   "source": [
    "df.to_html()"
   ]
  },
  {
   "source": [
    "### Mars Weather"
   ],
   "cell_type": "markdown",
   "metadata": {}
  },
  {
   "cell_type": "code",
   "execution_count": 16,
   "metadata": {},
   "outputs": [],
   "source": [
    "# Visit the weather website\n",
    "url = 'https://mars.nasa.gov/insight/weather/'\n",
    "browser.visit(url)"
   ]
  },
  {
   "cell_type": "code",
   "execution_count": 17,
   "metadata": {},
   "outputs": [],
   "source": [
    "# Parse the data\n",
    "html = browser.html\n",
    "weather_soup = soup(html, 'html.parser')"
   ]
  },
  {
   "cell_type": "code",
   "execution_count": 18,
   "metadata": {
    "tags": []
   },
   "outputs": [
    {
     "output_type": "stream",
     "name": "stdout",
     "text": "<table class=\"mb_table\" id=\"weather_observation\" style=\"width:100%;\">\n <thead>\n  <tr>\n   <th colspan=\"2\" scope=\"col\">\n    Time\n   </th>\n   <th colspan=\"3\" id=\"temperature_lbl\" scope=\"col\">\n    Air Temperature (\n    <span class=\"lbl_fahrenheit\">\n     °F\n    </span>\n    <span class=\"slash\">\n     |\n    </span>\n    <span class=\"lbl_celsius fadeBlack\">\n     °C\n    </span>\n    )\n   </th>\n   <th colspan=\"4\" id=\"windspeed_lbl\" scope=\"col\">\n    Wind Speed (\n    <span class=\"lbl_mph\">\n     mph\n    </span>\n    <span class=\"slash\">\n     |\n    </span>\n    <span class=\"lbl_mps fadeBlack\">\n     m/s\n    </span>\n    )\n   </th>\n   <th colspan=\"3\" id=\"pressure_lbl\" scope=\"col\">\n    Pressure (Pa)\n   </th>\n  </tr>\n </thead>\n <tbody>\n  <tr id=\"weather_top\">\n   <th class=\"sol\" scope=\"row\">\n    Date\n   </th>\n   <th class=\"sol\" scope=\"row\">\n    Sol\n   </th>\n   <td class=\"temperature max\">\n    Max.\n   </td>\n   <td class=\"temperature avg\">\n    Avg.\n   </td>\n   <td class=\"temperature min\">\n    Min.\n   </td>\n   <td class=\"windspeed max\">\n    Max.\n   </td>\n   <td class=\"windspeed avg\">\n    Avg.\n   </td>\n   <td class=\"windspeed min\">\n    Min.\n   </td>\n   <td class=\"windspeed direction\">\n    Direction\n    <br/>\n    <span style=\"font-size:x-small\">\n     (most common)\n    </span>\n   </td>\n   <td class=\"pressure max\">\n    Max.\n   </td>\n   <td class=\"pressure avg\">\n    Avg.\n   </td>\n   <td class=\"pressure min\">\n    Min.\n   </td>\n  </tr>\n  <tr>\n   <th class=\"sol\" scope=\"row\">\n    Sep. 25, 2020\n   </th>\n   <th class=\"sol\" scope=\"row\">\n    651\n   </th>\n   <td class=\"temperature max\">\n    <span class=\"fahrenheit\">\n     <nobr>\n      3.4° F\n     </nobr>\n    </span>\n    <span class=\"celsius\" style=\"display: none;\">\n     <nobr>\n      -15.9° C\n     </nobr>\n    </span>\n   </td>\n   <td class=\"temperature avg\">\n    <span class=\"fahrenheit\">\n     <nobr>\n      -90.7° F\n     </nobr>\n    </span>\n    <span class=\"celsius\" style=\"display: none;\">\n     <nobr>\n      -68.2° C\n     </nobr>\n    </span>\n   </td>\n   <td class=\"temperature min\">\n    <span class=\"fahrenheit\">\n     <nobr>\n      -142.1° F\n     </nobr>\n    </span>\n    <span class=\"celsius\" style=\"display: none;\">\n     <nobr>\n      -96.7° C\n     </nobr>\n    </span>\n   </td>\n   <td class=\"windspeed max\">\n    <span class=\"mph\">\n     45.3\n    </span>\n    <span class=\"mps\" style=\"display:none\">\n     20.3\n    </span>\n   </td>\n   <td class=\"windspeed avg\">\n    <span class=\"mph\">\n     16.3\n    </span>\n    <span class=\"mps\" style=\"display:none\">\n     7.3\n    </span>\n   </td>\n   <td class=\"windspeed min\">\n    <span class=\"mph\">\n     0.6\n    </span>\n    <span class=\"mps\" style=\"display:none\">\n     0.2\n    </span>\n   </td>\n   <td class=\"windspeed point\">\n    WNW\n   </td>\n   <td class=\"pressure max\">\n    781.5\n   </td>\n   <td class=\"pressure avg\">\n    767.8\n   </td>\n   <td class=\"pressure min\">\n    736.8\n   </td>\n  </tr>\n  <tr>\n   <th class=\"sol\" scope=\"row\">\n    Sep. 24, 2020\n   </th>\n   <th class=\"sol\" scope=\"row\">\n    650\n   </th>\n   <td class=\"temperature max\">\n    <span class=\"fahrenheit\">\n     <nobr>\n      0.5° F\n     </nobr>\n    </span>\n    <span class=\"celsius\" style=\"display: none;\">\n     <nobr>\n      -17.5° C\n     </nobr>\n    </span>\n   </td>\n   <td class=\"temperature avg\">\n    <span class=\"fahrenheit\">\n     <nobr>\n      -80.2° F\n     </nobr>\n    </span>\n    <span class=\"celsius\" style=\"display: none;\">\n     <nobr>\n      -62.3° C\n     </nobr>\n    </span>\n   </td>\n   <td class=\"temperature min\">\n    <span class=\"fahrenheit\">\n     <nobr>\n      -140.6° F\n     </nobr>\n    </span>\n    <span class=\"celsius\" style=\"display: none;\">\n     <nobr>\n      -95.9° C\n     </nobr>\n    </span>\n   </td>\n   <td class=\"windspeed max\">\n    <span class=\"mph\">\n     50.9\n    </span>\n    <span class=\"mps\" style=\"display:none\">\n     22.8\n    </span>\n   </td>\n   <td class=\"windspeed avg\">\n    <span class=\"mph\">\n     18.6\n    </span>\n    <span class=\"mps\" style=\"display:none\">\n     8.3\n    </span>\n   </td>\n   <td class=\"windspeed min\">\n    <span class=\"mph\">\n     3.6\n    </span>\n    <span class=\"mps\" style=\"display:none\">\n     1.6\n    </span>\n   </td>\n   <td class=\"windspeed point\">\n    WNW\n   </td>\n   <td class=\"pressure max\">\n    785.6\n   </td>\n   <td class=\"pressure avg\">\n    768.2\n   </td>\n   <td class=\"pressure min\">\n    737.7\n   </td>\n  </tr>\n  <tr>\n   <th class=\"sol\" scope=\"row\">\n    Sep. 23, 2020\n   </th>\n   <th class=\"sol\" scope=\"row\">\n    649\n   </th>\n   <td class=\"temperature max\">\n    <span class=\"fahrenheit\">\n     <nobr>\n      -2.5° F\n     </nobr>\n    </span>\n    <span class=\"celsius\" style=\"display: none;\">\n     <nobr>\n      -19.2° C\n     </nobr>\n    </span>\n   </td>\n   <td class=\"temperature avg\">\n    <span class=\"fahrenheit\">\n     <nobr>\n      -81.6° F\n     </nobr>\n    </span>\n    <span class=\"celsius\" style=\"display: none;\">\n     <nobr>\n      -63.1° C\n     </nobr>\n    </span>\n   </td>\n   <td class=\"temperature min\">\n    <span class=\"fahrenheit\">\n     <nobr>\n      -140.3° F\n     </nobr>\n    </span>\n    <span class=\"celsius\" style=\"display: none;\">\n     <nobr>\n      -95.7° C\n     </nobr>\n    </span>\n   </td>\n   <td class=\"windspeed max\">\n    <span class=\"mph\">\n     49.3\n    </span>\n    <span class=\"mps\" style=\"display:none\">\n     22\n    </span>\n   </td>\n   <td class=\"windspeed avg\">\n    <span class=\"mph\">\n     18.7\n    </span>\n    <span class=\"mps\" style=\"display:none\">\n     8.4\n    </span>\n   </td>\n   <td class=\"windspeed min\">\n    <span class=\"mph\">\n     3.5\n    </span>\n    <span class=\"mps\" style=\"display:none\">\n     1.6\n    </span>\n   </td>\n   <td class=\"windspeed point\">\n    WNW\n   </td>\n   <td class=\"pressure max\">\n    785.1\n   </td>\n   <td class=\"pressure avg\">\n    768\n   </td>\n   <td class=\"pressure min\">\n    739.1\n   </td>\n  </tr>\n  <tr>\n   <th class=\"sol\" scope=\"row\">\n    Sep. 22, 2020\n   </th>\n   <th class=\"sol\" scope=\"row\">\n    648\n   </th>\n   <td class=\"temperature max\">\n    <span class=\"fahrenheit\">\n     <nobr>\n      1.6° F\n     </nobr>\n    </span>\n    <span class=\"celsius\" style=\"display: none;\">\n     <nobr>\n      -16.9° C\n     </nobr>\n    </span>\n   </td>\n   <td class=\"temperature avg\">\n    <span class=\"fahrenheit\">\n     <nobr>\n      -75° F\n     </nobr>\n    </span>\n    <span class=\"celsius\" style=\"display: none;\">\n     <nobr>\n      -59.4° C\n     </nobr>\n    </span>\n   </td>\n   <td class=\"temperature min\">\n    <span class=\"fahrenheit\">\n     <nobr>\n      -142.7° F\n     </nobr>\n    </span>\n    <span class=\"celsius\" style=\"display: none;\">\n     <nobr>\n      -97.1° C\n     </nobr>\n    </span>\n   </td>\n   <td class=\"windspeed max\">\n    <span class=\"mph\">\n     45.5\n    </span>\n    <span class=\"mps\" style=\"display:none\">\n     20.3\n    </span>\n   </td>\n   <td class=\"windspeed avg\">\n    <span class=\"mph\">\n     17.8\n    </span>\n    <span class=\"mps\" style=\"display:none\">\n     8\n    </span>\n   </td>\n   <td class=\"windspeed min\">\n    <span class=\"mph\">\n     4.2\n    </span>\n    <span class=\"mps\" style=\"display:none\">\n     1.9\n    </span>\n   </td>\n   <td class=\"windspeed point\">\n    WNW\n   </td>\n   <td class=\"pressure max\">\n    786.8\n   </td>\n   <td class=\"pressure avg\">\n    766.5\n   </td>\n   <td class=\"pressure min\">\n    739.6\n   </td>\n  </tr>\n  <tr>\n   <th class=\"sol\" scope=\"row\">\n    Sep. 21, 2020\n   </th>\n   <th class=\"sol\" scope=\"row\">\n    647\n   </th>\n   <td class=\"temperature max\">\n    <span class=\"fahrenheit\">\n     <nobr>\n      5.1° F\n     </nobr>\n    </span>\n    <span class=\"celsius\" style=\"display: none;\">\n     <nobr>\n      -14.9° C\n     </nobr>\n    </span>\n   </td>\n   <td class=\"temperature avg\">\n    <span class=\"fahrenheit\">\n     <nobr>\n      -69.3° F\n     </nobr>\n    </span>\n    <span class=\"celsius\" style=\"display: none;\">\n     <nobr>\n      -56.3° C\n     </nobr>\n    </span>\n   </td>\n   <td class=\"temperature min\">\n    <span class=\"fahrenheit\">\n     <nobr>\n      -141° F\n     </nobr>\n    </span>\n    <span class=\"celsius\" style=\"display: none;\">\n     <nobr>\n      -96.1° C\n     </nobr>\n    </span>\n   </td>\n   <td class=\"windspeed max\">\n    <span class=\"mph\">\n     41.4\n    </span>\n    <span class=\"mps\" style=\"display:none\">\n     18.5\n    </span>\n   </td>\n   <td class=\"windspeed avg\">\n    <span class=\"mph\">\n     15.7\n    </span>\n    <span class=\"mps\" style=\"display:none\">\n     7\n    </span>\n   </td>\n   <td class=\"windspeed min\">\n    <span class=\"mph\">\n     1.8\n    </span>\n    <span class=\"mps\" style=\"display:none\">\n     0.8\n    </span>\n   </td>\n   <td class=\"windspeed point\">\n    WNW\n   </td>\n   <td class=\"pressure max\">\n    785\n   </td>\n   <td class=\"pressure avg\">\n    764.7\n   </td>\n   <td class=\"pressure min\">\n    738.2\n   </td>\n  </tr>\n  <tr>\n   <th class=\"sol\" scope=\"row\">\n    Sep. 19, 2020\n   </th>\n   <th class=\"sol\" scope=\"row\">\n    646\n   </th>\n   <td class=\"temperature max\">\n    <span class=\"fahrenheit\">\n     <nobr>\n      3.8° F\n     </nobr>\n    </span>\n    <span class=\"celsius\" style=\"display: none;\">\n     <nobr>\n      -15.6° C\n     </nobr>\n    </span>\n   </td>\n   <td class=\"temperature avg\">\n    <span class=\"fahrenheit\">\n     <nobr>\n      -67.9° F\n     </nobr>\n    </span>\n    <span class=\"celsius\" style=\"display: none;\">\n     <nobr>\n      -55.5° C\n     </nobr>\n    </span>\n   </td>\n   <td class=\"temperature min\">\n    <span class=\"fahrenheit\">\n     <nobr>\n      -140.8° F\n     </nobr>\n    </span>\n    <span class=\"celsius\" style=\"display: none;\">\n     <nobr>\n      -96° C\n     </nobr>\n    </span>\n   </td>\n   <td class=\"windspeed max\">\n    <span class=\"mph\">\n     42.2\n    </span>\n    <span class=\"mps\" style=\"display:none\">\n     18.9\n    </span>\n   </td>\n   <td class=\"windspeed avg\">\n    <span class=\"mph\">\n     16.2\n    </span>\n    <span class=\"mps\" style=\"display:none\">\n     7.2\n    </span>\n   </td>\n   <td class=\"windspeed min\">\n    <span class=\"mph\">\n     1.7\n    </span>\n    <span class=\"mps\" style=\"display:none\">\n     0.8\n    </span>\n   </td>\n   <td class=\"windspeed point\">\n    WNW\n   </td>\n   <td class=\"pressure max\">\n    785.7\n   </td>\n   <td class=\"pressure avg\">\n    764.8\n   </td>\n   <td class=\"pressure min\">\n    738.1\n   </td>\n  </tr>\n  <tr>\n   <th class=\"sol\" scope=\"row\">\n    Sep. 18, 2020\n   </th>\n   <th class=\"sol\" scope=\"row\">\n    645\n   </th>\n   <td class=\"temperature max\">\n    <span class=\"fahrenheit\">\n     <nobr>\n      4.7° F\n     </nobr>\n    </span>\n    <span class=\"celsius\" style=\"display: none;\">\n     <nobr>\n      -15.2° C\n     </nobr>\n    </span>\n   </td>\n   <td class=\"temperature avg\">\n    <span class=\"fahrenheit\">\n     <nobr>\n      -89.3° F\n     </nobr>\n    </span>\n    <span class=\"celsius\" style=\"display: none;\">\n     <nobr>\n      -67.4° C\n     </nobr>\n    </span>\n   </td>\n   <td class=\"temperature min\">\n    <span class=\"fahrenheit\">\n     <nobr>\n      -140° F\n     </nobr>\n    </span>\n    <span class=\"celsius\" style=\"display: none;\">\n     <nobr>\n      -95.6° C\n     </nobr>\n    </span>\n   </td>\n   <td class=\"windspeed max\">\n    <span class=\"mph\">\n     43.2\n    </span>\n    <span class=\"mps\" style=\"display:none\">\n     19.3\n    </span>\n   </td>\n   <td class=\"windspeed avg\">\n    <span class=\"mph\">\n     15.8\n    </span>\n    <span class=\"mps\" style=\"display:none\">\n     7.1\n    </span>\n   </td>\n   <td class=\"windspeed min\">\n    <span class=\"mph\">\n     0.5\n    </span>\n    <span class=\"mps\" style=\"display:none\">\n     0.2\n    </span>\n   </td>\n   <td class=\"windspeed point\">\n    WNW\n   </td>\n   <td class=\"pressure max\">\n    787.4\n   </td>\n   <td class=\"pressure avg\">\n    770.7\n   </td>\n   <td class=\"pressure min\">\n    740.8\n   </td>\n  </tr>\n </tbody>\n</table>\n"
    }
   ],
   "source": [
    "# Scrape the Daily Weather Report table\n",
    "weather_table = weather_soup.find('table', class_='mb_table')\n",
    "print(weather_table.prettify())"
   ]
  },
  {
   "source": [
    "# D1: Scrape High-Resolution Mars’ Hemisphere Images and Titles"
   ],
   "cell_type": "markdown",
   "metadata": {}
  },
  {
   "source": [
    "### Hemispheres"
   ],
   "cell_type": "markdown",
   "metadata": {}
  },
  {
   "cell_type": "code",
   "execution_count": 19,
   "metadata": {},
   "outputs": [],
   "source": [
    "# 1. Use browser to visit the URL \n",
    "url = 'https://astrogeology.usgs.gov/search/results?q=hemisphere+enhanced&k1=target&v1=Mars'\n",
    "browser.visit(url)"
   ]
  },
  {
   "cell_type": "code",
   "execution_count": 20,
   "metadata": {},
   "outputs": [
    {
     "output_type": "error",
     "ename": "SyntaxError",
     "evalue": "invalid character in identifier (<ipython-input-20-abab0a774a5d>, line 15)",
     "traceback": [
      "\u001b[1;36m  File \u001b[1;32m\"<ipython-input-20-abab0a774a5d>\"\u001b[1;36m, line \u001b[1;32m15\u001b[0m\n\u001b[1;33m    ​\u001b[0m\n\u001b[1;37m    ^\u001b[0m\n\u001b[1;31mSyntaxError\u001b[0m\u001b[1;31m:\u001b[0m invalid character in identifier\n"
     ]
    }
   ],
   "source": [
    "# 2. Create a list to hold the images and titles.\n",
    "hemisphere_image_urls = []\n",
    "url_list = []\n",
    "base_url = 'https://astrogeology.usgs.gov'\n",
    "\n",
    "# 3. Write code to retrieve the image urls and titles for each hemisphere.\n",
    "html = browser.html\n",
    "link_soup = soup(html, 'html.parser')\n",
    "link_url_elems = link_soup.select(\"div[class='description']\")\n",
    "\n",
    "## Get list of URLs to go the individual page for each hemisphere\n",
    "for link_url in link_url_elems:\n",
    "\timg_url = link_url.find('a').get('href')\n",
    "\turl_list.append(f\"{base_url}{img_url}\")\n",
    "​\n",
    "for url in url_list:\n",
    "\n",
    "\t## Reload the browser to get to the url\n",
    "\tbrowser.visit(url)\n",
    "​\n",
    "\t## Empty dictionary to hold image path and title\n",
    "\themispheres = {}\n",
    "\t## Verify page is loaded by checking if text 'Download' appears\n",
    "\tbrowser.is_element_present_by_text('Download', wait_time=1)\n",
    "\thtml = browser.html\n",
    "\timg_dtl_soup = soup(html, 'html.parser')\n",
    "​\n",
    "\t## Get Image URL\n",
    "\timage_url = img_dtl_soup.select_one(\"div[class='downloads'] ul li a\").get\t\t\t\t\t(\"href\")\n",
    "\timage_url\n",
    "​\n",
    "\t## Get Image Title\n",
    "\timage_title = img_dtl_soup.select_one(\"div[class='content'] h2\").get_text()\n",
    "\n",
    "\t## Add details to dictionary\n",
    "\themispheres = {\"img_url\": image_url, \"title\": image_title}\n",
    "\themisphere_image_urls.append(hemispheres)\n",
    "\tbrowser.back()\n",
    "return hemisphere_image_urls\n"
   ]
  },
  {
   "cell_type": "code",
   "execution_count": null,
   "metadata": {},
   "outputs": [],
   "source": [
    "# 4. Print the list that holds the dictionary of each image url and title.\n",
    "hemisphere_image_urls"
   ]
  },
  {
   "cell_type": "code",
   "execution_count": null,
   "metadata": {},
   "outputs": [],
   "source": [
    "# 5. Quit the browser\n",
    "browser.quit()"
   ]
  }
 ],
 "metadata": {
  "kernelspec": {
   "display_name": "PythonData",
   "language": "python",
   "name": "pythondata"
  },
  "language_info": {
   "codemirror_mode": {
    "name": "ipython",
    "version": 3
   },
   "file_extension": ".py",
   "mimetype": "text/x-python",
   "name": "python",
   "nbconvert_exporter": "python",
   "pygments_lexer": "ipython3",
   "version": "3.7.7-final"
  }
 },
 "nbformat": 4,
 "nbformat_minor": 4
}